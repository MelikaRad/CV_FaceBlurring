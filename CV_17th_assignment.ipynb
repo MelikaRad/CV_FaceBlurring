{
 "cells": [
  {
   "cell_type": "markdown",
   "id": "0a0b4033",
   "metadata": {},
   "source": [
    "## Computer Vision 2nd Assignment\n",
    "## Melika Heydari Rad \n",
    "#### Maktabkhooneh Course "
   ]
  },
  {
   "cell_type": "code",
   "execution_count": null,
   "id": "816cbc4e",
   "metadata": {},
   "outputs": [],
   "source": []
  },
  {
   "cell_type": "code",
   "execution_count": null,
   "id": "44fa2ef3",
   "metadata": {},
   "outputs": [],
   "source": []
  }
 ],
 "metadata": {
  "kernelspec": {
   "display_name": "Python 3 (ipykernel)",
   "language": "python",
   "name": "python3"
  },
  "language_info": {
   "codemirror_mode": {
    "name": "ipython",
    "version": 3
   },
   "file_extension": ".py",
   "mimetype": "text/x-python",
   "name": "python",
   "nbconvert_exporter": "python",
   "pygments_lexer": "ipython3",
   "version": "3.10.8"
  }
 },
 "nbformat": 4,
 "nbformat_minor": 5
}
